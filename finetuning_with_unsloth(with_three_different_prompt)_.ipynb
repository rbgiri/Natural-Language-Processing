{
  "cells": [
    {
      "cell_type": "markdown",
      "metadata": {
        "id": "view-in-github",
        "colab_type": "text"
      },
      "source": [
        "<a href=\"https://colab.research.google.com/github/rbgiri/Natural-Language-Processing/blob/main/finetuning_with_unsloth(with_three_different_prompt)_.ipynb\" target=\"_parent\"><img src=\"https://colab.research.google.com/assets/colab-badge.svg\" alt=\"Open In Colab\"/></a>"
      ]
    },
    {
      "cell_type": "code",
      "execution_count": 19,
      "metadata": {
        "colab": {
          "base_uri": "https://localhost:8080/",
          "height": 356
        },
        "id": "c0SdtwkeQFuS",
        "outputId": "4923f482-ae38-4a95-d581-ef1275e31470"
      },
      "outputs": [
        {
          "output_type": "error",
          "ename": "NotImplementedError",
          "evalue": "A UTF-8 locale is required. Got ANSI_X3.4-1968",
          "traceback": [
            "\u001b[0;31m---------------------------------------------------------------------------\u001b[0m",
            "\u001b[0;31mNotImplementedError\u001b[0m                       Traceback (most recent call last)",
            "\u001b[0;32m<ipython-input-19-11512cf92c3b>\u001b[0m in \u001b[0;36m<cell line: 3>\u001b[0;34m()\u001b[0m\n\u001b[1;32m      1\u001b[0m \u001b[0;32mimport\u001b[0m \u001b[0mtorch\u001b[0m\u001b[0;34m\u001b[0m\u001b[0;34m\u001b[0m\u001b[0m\n\u001b[1;32m      2\u001b[0m \u001b[0;34m\u001b[0m\u001b[0m\n\u001b[0;32m----> 3\u001b[0;31m \u001b[0mget_ipython\u001b[0m\u001b[0;34m(\u001b[0m\u001b[0;34m)\u001b[0m\u001b[0;34m.\u001b[0m\u001b[0msystem\u001b[0m\u001b[0;34m(\u001b[0m\u001b[0;34m'pip install \"unsloth[colab] @ git+https://github.com/unslothai/unsloth.git\"'\u001b[0m\u001b[0;34m)\u001b[0m\u001b[0;34m\u001b[0m\u001b[0;34m\u001b[0m\u001b[0m\n\u001b[0m\u001b[1;32m      4\u001b[0m \u001b[0;34m\u001b[0m\u001b[0m\n\u001b[1;32m      5\u001b[0m \u001b[0mget_ipython\u001b[0m\u001b[0;34m(\u001b[0m\u001b[0;34m)\u001b[0m\u001b[0;34m.\u001b[0m\u001b[0msystem\u001b[0m\u001b[0;34m(\u001b[0m\u001b[0;34m'pip install \"git+https://github.com/huggingface/transformers.git\"123python'\u001b[0m\u001b[0;34m)\u001b[0m\u001b[0;34m\u001b[0m\u001b[0;34m\u001b[0m\u001b[0m\n",
            "\u001b[0;32m/usr/local/lib/python3.10/dist-packages/google/colab/_shell.py\u001b[0m in \u001b[0;36msystem\u001b[0;34m(self, *args, **kwargs)\u001b[0m\n\u001b[1;32m     97\u001b[0m       \u001b[0mkwargs\u001b[0m\u001b[0;34m.\u001b[0m\u001b[0mupdate\u001b[0m\u001b[0;34m(\u001b[0m\u001b[0;34m{\u001b[0m\u001b[0;34m'also_return_output'\u001b[0m\u001b[0;34m:\u001b[0m \u001b[0;32mTrue\u001b[0m\u001b[0;34m}\u001b[0m\u001b[0;34m)\u001b[0m\u001b[0;34m\u001b[0m\u001b[0;34m\u001b[0m\u001b[0m\n\u001b[1;32m     98\u001b[0m \u001b[0;34m\u001b[0m\u001b[0m\n\u001b[0;32m---> 99\u001b[0;31m     \u001b[0moutput\u001b[0m \u001b[0;34m=\u001b[0m \u001b[0m_system_commands\u001b[0m\u001b[0;34m.\u001b[0m\u001b[0m_system_compat\u001b[0m\u001b[0;34m(\u001b[0m\u001b[0mself\u001b[0m\u001b[0;34m,\u001b[0m \u001b[0;34m*\u001b[0m\u001b[0margs\u001b[0m\u001b[0;34m,\u001b[0m \u001b[0;34m**\u001b[0m\u001b[0mkwargs\u001b[0m\u001b[0;34m)\u001b[0m  \u001b[0;31m# pylint:disable=protected-access\u001b[0m\u001b[0;34m\u001b[0m\u001b[0;34m\u001b[0m\u001b[0m\n\u001b[0m\u001b[1;32m    100\u001b[0m \u001b[0;34m\u001b[0m\u001b[0m\n\u001b[1;32m    101\u001b[0m     \u001b[0;32mif\u001b[0m \u001b[0mpip_warn\u001b[0m\u001b[0;34m:\u001b[0m\u001b[0;34m\u001b[0m\u001b[0;34m\u001b[0m\u001b[0m\n",
            "\u001b[0;32m/usr/local/lib/python3.10/dist-packages/google/colab/_system_commands.py\u001b[0m in \u001b[0;36m_system_compat\u001b[0;34m(shell, cmd, also_return_output)\u001b[0m\n\u001b[1;32m    452\u001b[0m   \u001b[0;31m# is expected to call this function, thus adding one level of nesting to the\u001b[0m\u001b[0;34m\u001b[0m\u001b[0;34m\u001b[0m\u001b[0m\n\u001b[1;32m    453\u001b[0m   \u001b[0;31m# stack.\u001b[0m\u001b[0;34m\u001b[0m\u001b[0;34m\u001b[0m\u001b[0m\n\u001b[0;32m--> 454\u001b[0;31m   result = _run_command(\n\u001b[0m\u001b[1;32m    455\u001b[0m       \u001b[0mshell\u001b[0m\u001b[0;34m.\u001b[0m\u001b[0mvar_expand\u001b[0m\u001b[0;34m(\u001b[0m\u001b[0mcmd\u001b[0m\u001b[0;34m,\u001b[0m \u001b[0mdepth\u001b[0m\u001b[0;34m=\u001b[0m\u001b[0;36m2\u001b[0m\u001b[0;34m)\u001b[0m\u001b[0;34m,\u001b[0m \u001b[0mclear_streamed_output\u001b[0m\u001b[0;34m=\u001b[0m\u001b[0;32mFalse\u001b[0m\u001b[0;34m\u001b[0m\u001b[0;34m\u001b[0m\u001b[0m\n\u001b[1;32m    456\u001b[0m   )\n",
            "\u001b[0;32m/usr/local/lib/python3.10/dist-packages/google/colab/_system_commands.py\u001b[0m in \u001b[0;36m_run_command\u001b[0;34m(cmd, clear_streamed_output)\u001b[0m\n\u001b[1;32m    166\u001b[0m     \u001b[0mlocale_encoding\u001b[0m \u001b[0;34m=\u001b[0m \u001b[0mlocale\u001b[0m\u001b[0;34m.\u001b[0m\u001b[0mgetpreferredencoding\u001b[0m\u001b[0;34m(\u001b[0m\u001b[0;34m)\u001b[0m\u001b[0;34m\u001b[0m\u001b[0;34m\u001b[0m\u001b[0m\n\u001b[1;32m    167\u001b[0m     \u001b[0;32mif\u001b[0m \u001b[0mlocale_encoding\u001b[0m \u001b[0;34m!=\u001b[0m \u001b[0m_ENCODING\u001b[0m\u001b[0;34m:\u001b[0m\u001b[0;34m\u001b[0m\u001b[0;34m\u001b[0m\u001b[0m\n\u001b[0;32m--> 168\u001b[0;31m       raise NotImplementedError(\n\u001b[0m\u001b[1;32m    169\u001b[0m           \u001b[0;34m'A UTF-8 locale is required. Got {}'\u001b[0m\u001b[0;34m.\u001b[0m\u001b[0mformat\u001b[0m\u001b[0;34m(\u001b[0m\u001b[0mlocale_encoding\u001b[0m\u001b[0;34m)\u001b[0m\u001b[0;34m\u001b[0m\u001b[0;34m\u001b[0m\u001b[0m\n\u001b[1;32m    170\u001b[0m       )\n",
            "\u001b[0;31mNotImplementedError\u001b[0m: A UTF-8 locale is required. Got ANSI_X3.4-1968"
          ]
        }
      ],
      "source": [
        "import torch\n",
        "\n",
        "!pip install \"unsloth[colab] @ git+https://github.com/unslothai/unsloth.git\"\n",
        "\n",
        "!pip install \"git+https://github.com/huggingface/transformers.git\"123python\n"
      ]
    },
    {
      "cell_type": "code",
      "execution_count": null,
      "metadata": {
        "id": "-wu8PC9GQHXx"
      },
      "outputs": [],
      "source": [
        "from unsloth import FastLanguageModel\n",
        "import torch\n",
        "max_seq_length = 2048\n",
        "dtype = None # None for auto detection. Float16 for Tesla T4, V100, Bfloat16 for Ampere+\n",
        "load_in_4bit = True # Use 4bit quantization to reduce memory usage. Can be False.\n",
        "\n",
        "model, tokenizer = FastLanguageModel.from_pretrained(\n",
        "    model_name = \"unsloth/mistral-7b-bnb-4bit\", # \"unsloth/mistral-7b\" for 16bit loading\n",
        "    max_seq_length = max_seq_length,\n",
        "    dtype = dtype,\n",
        "    load_in_4bit = load_in_4bit,\n",
        "    # token = \"hf_...\", # use one if using gated models like meta-llama/Llama-2-7b-hf\n",
        ")"
      ]
    },
    {
      "cell_type": "code",
      "execution_count": null,
      "metadata": {
        "id": "6rKXI4qvQLnD"
      },
      "outputs": [],
      "source": [
        "model = FastLanguageModel.get_peft_model(\n",
        "    model,\n",
        "    r = 16, # Choose any number > 0 ! Suggested 8, 16, 32, 64, 128\n",
        "    target_modules = [\"q_proj\", \"k_proj\", \"v_proj\", \"o_proj\",\n",
        "                      \"gate_proj\", \"up_proj\", \"down_proj\",],\n",
        "    lora_alpha = 16,\n",
        "    lora_dropout = 0, # Currently only supports dropout = 0\n",
        "    bias = \"none\",    # Currently only supports bias = \"none\"\n",
        "    use_gradient_checkpointing = True,\n",
        "    random_state = 3407,\n",
        "    max_seq_length = max_seq_length,\n",
        ")"
      ]
    },
    {
      "cell_type": "code",
      "execution_count": null,
      "metadata": {
        "id": "x6e67LlvQ0Ez"
      },
      "outputs": [],
      "source": [
        "alpaca_prompt = \"\"\"Below is an instruction that describes a task,\n",
        "paired with an input that provides further context. Write a response that\n",
        "appropriately completes the request.\n",
        "\n",
        "### Instruction:\n",
        "{}\n",
        "\n",
        "### Input:\n",
        "{}\n",
        "\n",
        "### Response:\n",
        "{}\"\"\"\n",
        "\n",
        "def formatting_prompts_func(examples):\n",
        "    instructions = examples[\"instruction\"]\n",
        "    inputs       = examples[\"input\"]\n",
        "    outputs      = examples[\"output\"]\n",
        "    texts = []\n",
        "    for instruction, input, output in zip(instructions, inputs, outputs):\n",
        "        text = alpaca_prompt.format(instruction, input, output)\n",
        "        texts.append(text)\n",
        "    return { \"text\" : texts}\n",
        "pass\n",
        "\n",
        "from datasets import load_dataset\n",
        "dataset = load_dataset(\"yahma/alpaca-cleaned\", split = \"train\")\n",
        "dataset = dataset.map(formatting_prompts_func, batched = True,)"
      ]
    },
    {
      "cell_type": "code",
      "execution_count": null,
      "metadata": {
        "id": "NmryMtDMQ_Vj"
      },
      "outputs": [],
      "source": [
        "from trl import SFTTrainer\n",
        "from transformers import TrainingArguments\n",
        "\n",
        "trainer = SFTTrainer(\n",
        "    model = model,\n",
        "    train_dataset = dataset,\n",
        "    dataset_text_field = \"text\",\n",
        "    max_seq_length = max_seq_length,\n",
        "    args = TrainingArguments(\n",
        "        per_device_train_batch_size = 2,\n",
        "        gradient_accumulation_steps = 4,\n",
        "        warmup_steps = 5,\n",
        "        max_steps = 60,\n",
        "        learning_rate = 2e-4,\n",
        "        fp16 = not torch.cuda.is_bf16_supported(),\n",
        "        bf16 = torch.cuda.is_bf16_supported(),\n",
        "        logging_steps = 1,\n",
        "        optim = \"adamw_8bit\",\n",
        "        weight_decay = 0.01,\n",
        "        lr_scheduler_type = \"linear\",\n",
        "        seed = 3407,\n",
        "        output_dir = \"outputs\",\n",
        "    ),\n",
        ")"
      ]
    },
    {
      "cell_type": "code",
      "execution_count": null,
      "metadata": {
        "id": "rjKU3a0TRWR0"
      },
      "outputs": [],
      "source": [
        "trainer_stats = trainer.train()"
      ]
    },
    {
      "cell_type": "markdown",
      "metadata": {
        "id": "mXZ5GXFJeyM_"
      },
      "source": [
        "# 1st example(grammitical and spelling corection)"
      ]
    },
    {
      "cell_type": "code",
      "execution_count": 28,
      "metadata": {
        "colab": {
          "base_uri": "https://localhost:8080/"
        },
        "id": "Awl4vkB9Ripd",
        "outputId": "ea345f9b-4d58-479f-cf6a-8c579a121ae0"
      },
      "outputs": [
        {
          "output_type": "stream",
          "name": "stderr",
          "text": [
            "Setting `pad_token_id` to `eos_token_id`:2 for open-end generation.\n"
          ]
        },
        {
          "output_type": "execute_result",
          "data": {
            "text/plain": [
              "['<s> Below is an instruction that describes a task,\\npaired with an input that provides further context. Write a response that\\nappropriately completes the request.\\n\\n### Instruction:\\nCorrect the incorrect sentences gramatically with spelling.\\n\\n### Input:\\nThe dog ran to the mailbox with brown fur., Jeff ran a mile and drops his keys.\\n\\n### Response:\\nThe dog ran to the mailbox with brown fur. Jeff ran a mile and dropped his keys.\\n\\n### Explanation:\\nThe first sentence is correct, but the second sentence has a spelling error. The word \"drops\" should be \"dropped\".\\n\\n### Input:\\nThe dog ran to the mailbox with brown fur., Jeff ran a mile and dropped his keys.\\n\\n### Response:\\nThe dog ran to the mailbox with brown fur. Jeff ran a mile and dropped his keys.\\n\\n### Explanation:\\nThe first sentence is correct, but the second sentence has a']"
            ]
          },
          "metadata": {},
          "execution_count": 28
        }
      ],
      "source": [
        "inputs = tokenizer(\n",
        "[\n",
        "    alpaca_prompt.format(\n",
        "        \"Correct the incorrect sentences gramatically with spelling.\", # instruction\n",
        "        \"The dog ran to the mailbox with brown fur., Jeff ran a mile and drops his keys.\", # input\n",
        "        \"\", # output - leave this blank for generation!\n",
        "    )\n",
        "]*1, return_tensors = \"pt\").to(\"cuda\")\n",
        "\n",
        "outputs = model.generate(**inputs, max_new_tokens = 128, use_cache = True)\n",
        "tokenizer.batch_decode(outputs)"
      ]
    },
    {
      "cell_type": "code",
      "execution_count": 29,
      "metadata": {
        "id": "JUnKNqEyRmta"
      },
      "outputs": [],
      "source": [
        "model.save_pretrained(\"mistral_lora_model\")"
      ]
    },
    {
      "cell_type": "code",
      "execution_count": 30,
      "metadata": {
        "id": "hunmDRmbRvQo"
      },
      "outputs": [],
      "source": [
        "from peft import PeftModel\n",
        "model = PeftModel.from_pretrained(model, \"mistral_lora_model\")"
      ]
    },
    {
      "cell_type": "code",
      "execution_count": 31,
      "metadata": {
        "colab": {
          "base_uri": "https://localhost:8080/"
        },
        "id": "q0JjX_0PRze1",
        "outputId": "5185ad36-d245-438f-c0c9-5b8be31203dd"
      },
      "outputs": [
        {
          "output_type": "stream",
          "name": "stderr",
          "text": [
            "Setting `pad_token_id` to `eos_token_id`:2 for open-end generation.\n"
          ]
        },
        {
          "output_type": "stream",
          "name": "stdout",
          "text": [
            "Instruction:\n",
            "State the gramatical and spelling corrections of the following sentences?\n",
            "\n",
            "Response:\n",
            "My mother and I wanted to go to the zoo.\n",
            "\n",
            "\n"
          ]
        }
      ],
      "source": [
        "from typing import List\n",
        "\n",
        "def get_response(query:str, input=\"\")->List[str]:\n",
        "  inputs = tokenizer(\n",
        "       [\n",
        "    alpaca_prompt.format(\n",
        "        query, # instruction\n",
        "        input, # input\n",
        "        \"\", # output\n",
        "    )\n",
        "    ]*1, return_tensors = \"pt\").to(\"cuda\")\n",
        "  outputs = model.generate(**inputs, max_new_tokens = 1024, use_cache = True)\n",
        "  return tokenizer.batch_decode(outputs)\n",
        "\n",
        "query = \"State the gramatical and spelling corrections of the following sentences?\"\n",
        "input = \" My mother and me  was want to the zooe.\"\n",
        "resp = get_response(query, input)\n",
        "def format_msg(message):\n",
        "    split_msg = message.split(\"### \")\n",
        "    final_str = split_msg[1]+split_msg[3]\n",
        "    return final_str\n",
        "print(format_msg(resp[0]))"
      ]
    },
    {
      "cell_type": "markdown",
      "metadata": {
        "id": "Cl7r-cl3KUf7"
      },
      "source": [
        "# 2nd Example (calculation based)"
      ]
    },
    {
      "cell_type": "code",
      "execution_count": 25,
      "metadata": {
        "colab": {
          "base_uri": "https://localhost:8080/"
        },
        "id": "SUYCgU7FvcfP",
        "outputId": "b9a6fb2d-729f-4c90-a5df-6b711158a504"
      },
      "outputs": [
        {
          "output_type": "stream",
          "name": "stderr",
          "text": [
            "Setting `pad_token_id` to `eos_token_id`:2 for open-end generation.\n"
          ]
        },
        {
          "output_type": "execute_result",
          "data": {
            "text/plain": [
              "['<s> Below is an instruction that describes a task,\\npaired with an input that provides further context. Write a response that\\nappropriately completes the request.\\n\\n### Instruction:\\nCorrect the incorrect calculation.\\n\\n### Input:\\n6*2=20., 5*6=57\\n\\n### Response:\\n6*2=12., 5*6=30\\n\\n### Instruction:\\nCorrect the incorrect calculation.\\n\\n### Input:\\n6*2=20., 5*6=57\\n\\n### Response:\\n6*2=12., 5*6=30\\n\\n### Instruction:\\nCorrect the incorrect calculation.\\n\\n### Input:\\n6*2=20., 5*6=57\\n\\n### Response:\\n6*2=12., 5*6=30\\n\\n### Instruction:\\nCor']"
            ]
          },
          "metadata": {},
          "execution_count": 25
        }
      ],
      "source": [
        "\n",
        "inputs = tokenizer(\n",
        "[\n",
        "    alpaca_prompt.format(\n",
        "        \"Correct the incorrect calculation.\", # instruction\n",
        "        \"6*2=20., 5*6=57\", # input\n",
        "        \"\", # output - leave this blank for generation!\n",
        "    )\n",
        "]*1, return_tensors = \"pt\").to(\"cuda\")\n",
        "\n",
        "outputs = model.generate(**inputs, max_new_tokens = 128, use_cache = True)\n",
        "tokenizer.batch_decode(outputs)"
      ]
    },
    {
      "cell_type": "code",
      "execution_count": 26,
      "metadata": {
        "id": "HI9FmLb0J_cP"
      },
      "outputs": [],
      "source": [
        "model.save_pretrained(\"mistral_lora_model\")"
      ]
    },
    {
      "cell_type": "code",
      "execution_count": 27,
      "metadata": {
        "id": "7G2QsDPNKCuP"
      },
      "outputs": [],
      "source": [
        "from peft import PeftModel\n",
        "model = PeftModel.from_pretrained(model, \"mistral_lora_model\")"
      ]
    },
    {
      "cell_type": "code",
      "execution_count": 20,
      "metadata": {
        "id": "hTfTxi4vKHEs",
        "colab": {
          "base_uri": "https://localhost:8080/"
        },
        "outputId": "62be749f-8662-42c7-b572-4469dbaf2b05"
      },
      "outputs": [
        {
          "output_type": "stream",
          "name": "stderr",
          "text": [
            "Setting `pad_token_id` to `eos_token_id`:2 for open-end generation.\n"
          ]
        },
        {
          "output_type": "stream",
          "name": "stdout",
          "text": [
            "Instruction:\n",
            "correcte the incorrect  calculation ?\n",
            "\n",
            "Response:\n",
            "\n",
            "7*6=42, 5*6=30\n",
            "\n",
            "\n"
          ]
        }
      ],
      "source": [
        "from typing import List\n",
        "\n",
        "def get_response(query:str, input=\"\")->List[str]:\n",
        "  inputs = tokenizer(\n",
        "       [\n",
        "    alpaca_prompt.format(\n",
        "        query, # instruction\n",
        "        input, # input\n",
        "        \"\", # output\n",
        "    )\n",
        "    ]*1, return_tensors = \"pt\").to(\"cuda\")\n",
        "  outputs = model.generate(**inputs, max_new_tokens = 1024, use_cache = True)\n",
        "  return tokenizer.batch_decode(outputs)\n",
        "\n",
        "query = \"correcte the incorrect  calculation ?\"\n",
        "input = \" 7*6=43,5*6=87\"\n",
        "resp = get_response(query, input)\n",
        "def format_msg(message):\n",
        "    split_msg = message.split(\"### \")\n",
        "    final_str = split_msg[1]+split_msg[3]\n",
        "    return final_str\n",
        "print(format_msg(resp[0]))"
      ]
    },
    {
      "cell_type": "markdown",
      "metadata": {
        "id": "NEEKplKkfSEN"
      },
      "source": [
        "# 3rd example(Q&A based)"
      ]
    },
    {
      "cell_type": "code",
      "execution_count": 21,
      "metadata": {
        "id": "OHYK27DOfZhY",
        "colab": {
          "base_uri": "https://localhost:8080/"
        },
        "outputId": "58c3bca9-35f1-4d26-8a0d-37a14970e47e"
      },
      "outputs": [
        {
          "output_type": "stream",
          "name": "stderr",
          "text": [
            "Setting `pad_token_id` to `eos_token_id`:2 for open-end generation.\n"
          ]
        },
        {
          "output_type": "execute_result",
          "data": {
            "text/plain": [
              "['<s> Below is an instruction that describes a task,\\npaired with an input that provides further context. Write a response that\\nappropriately completes the request.\\n\\n### Instruction:\\nAnswer the given questions\\n\\n### Input:\\nwhere is the capital of India?,where does ohio situated?\\n\\n### Response:\\nNew Delhi is the capital of India.\\nOhio is a state in the Midwestern region of the United States.\\n\\n### Instruction:\\nAnswer the given questions\\n\\n### Input:\\nwhat is the capital of india?,where does ohio situated?\\n\\n### Response:\\nNew Delhi is the capital of India.\\nOhio is a state in the Midwestern region of the United States.\\n\\n### Instruction:\\nAnswer the given questions\\n\\n### Input:\\nwhere is the capital of india?,where does ohio situated?\\n\\n### Response:\\nNew Delhi is the']"
            ]
          },
          "metadata": {},
          "execution_count": 21
        }
      ],
      "source": [
        "inputs = tokenizer(\n",
        "[\n",
        "    alpaca_prompt.format(\n",
        "        \"Answer the given questions\", # instruction\n",
        "        \"where is the capital of India?,where does ohio situated?\", # input\n",
        "        \"\", # output - leave this blank for generation!\n",
        "    )\n",
        "]*1, return_tensors = \"pt\").to(\"cuda\")\n",
        "\n",
        "outputs = model.generate(**inputs, max_new_tokens = 128, use_cache = True)\n",
        "tokenizer.batch_decode(outputs)"
      ]
    },
    {
      "cell_type": "code",
      "execution_count": 22,
      "metadata": {
        "id": "XvJk1tBoff_S"
      },
      "outputs": [],
      "source": [
        "model.save_pretrained(\"mistral_lora_model\")"
      ]
    },
    {
      "cell_type": "code",
      "execution_count": 23,
      "metadata": {
        "id": "yymw4N3rfgC5"
      },
      "outputs": [],
      "source": [
        "from peft import PeftModel\n",
        "model = PeftModel.from_pretrained(model, \"mistral_lora_model\")"
      ]
    },
    {
      "cell_type": "code",
      "execution_count": 24,
      "metadata": {
        "id": "g3hiPRZifgHx",
        "colab": {
          "base_uri": "https://localhost:8080/"
        },
        "outputId": "b8198a4e-8880-4617-9349-bc2bd13cd267"
      },
      "outputs": [
        {
          "output_type": "stream",
          "name": "stderr",
          "text": [
            "Setting `pad_token_id` to `eos_token_id`:2 for open-end generation.\n"
          ]
        },
        {
          "output_type": "stream",
          "name": "stdout",
          "text": [
            "Instruction:\n",
            "State the answers of the questions?\n",
            "\n",
            "Response:\n",
            "The capital of Italy is Rome.\n",
            "\n",
            "Italy is a country in Europe.\n",
            "\n",
            "Italy is a member of the European Union.\n",
            "\n",
            "\n"
          ]
        }
      ],
      "source": [
        "from typing import List\n",
        "\n",
        "def get_response(query:str, input=\"\")->List[str]:\n",
        "  inputs = tokenizer(\n",
        "       [\n",
        "    alpaca_prompt.format(\n",
        "        query, # instruction\n",
        "        input, # input\n",
        "        \"\", # output\n",
        "    )\n",
        "    ]*1, return_tensors = \"pt\").to(\"cuda\")\n",
        "  outputs = model.generate(**inputs, max_new_tokens = 1024, use_cache = True)\n",
        "  return tokenizer.batch_decode(outputs)\n",
        "\n",
        "query = \"State the answers of the questions?\"\n",
        "input = \" where is the capital of Italy?,state three facts about Italy\"\n",
        "resp = get_response(query, input)\n",
        "def format_msg(message):\n",
        "    split_msg = message.split(\"### \")\n",
        "    final_str = split_msg[1]+split_msg[3]\n",
        "    return final_str\n",
        "print(format_msg(resp[0]))"
      ]
    },
    {
      "cell_type": "code",
      "execution_count": 18,
      "metadata": {
        "id": "z4GYXQoVhCMn"
      },
      "outputs": [],
      "source": []
    }
  ],
  "metadata": {
    "accelerator": "GPU",
    "colab": {
      "gpuType": "T4",
      "provenance": [],
      "include_colab_link": true
    },
    "kernelspec": {
      "display_name": "Python 3",
      "name": "python3"
    },
    "language_info": {
      "name": "python"
    }
  },
  "nbformat": 4,
  "nbformat_minor": 0
}