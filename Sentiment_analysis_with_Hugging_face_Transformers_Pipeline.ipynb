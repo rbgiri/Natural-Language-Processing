{
  "nbformat": 4,
  "nbformat_minor": 0,
  "metadata": {
    "colab": {
      "provenance": [],
      "authorship_tag": "ABX9TyMsCj5n4t0f4jx73g7wkoRm",
      "include_colab_link": true
    },
    "kernelspec": {
      "name": "python3",
      "display_name": "Python 3"
    },
    "language_info": {
      "name": "python"
    }
  },
  "cells": [
    {
      "cell_type": "markdown",
      "metadata": {
        "id": "view-in-github",
        "colab_type": "text"
      },
      "source": [
        "<a href=\"https://colab.research.google.com/github/rbgiri/Natural-Language-Processing/blob/main/Sentiment_analysis_with_Hugging_face_Transformers_Pipeline.ipynb\" target=\"_parent\"><img src=\"https://colab.research.google.com/assets/colab-badge.svg\" alt=\"Open In Colab\"/></a>"
      ]
    },
    {
      "cell_type": "code",
      "execution_count": 1,
      "metadata": {
        "id": "-wV8iWID3t8v"
      },
      "outputs": [],
      "source": [
        "!pip install -q transformers"
      ]
    },
    {
      "cell_type": "code",
      "source": [
        "from transformers import pipeline"
      ],
      "metadata": {
        "id": "2mZ6gzY84-gb"
      },
      "execution_count": 3,
      "outputs": []
    },
    {
      "cell_type": "code",
      "source": [
        "senti_pipeline = pipeline(\"sentiment-analysis\")"
      ],
      "metadata": {
        "colab": {
          "base_uri": "https://localhost:8080/"
        },
        "id": "azdmKZ-95K6X",
        "outputId": "0d7d73ad-56e1-4742-e51a-0248ea9a2d03"
      },
      "execution_count": 8,
      "outputs": [
        {
          "output_type": "stream",
          "name": "stderr",
          "text": [
            "No model was supplied, defaulted to distilbert-base-uncased-finetuned-sst-2-english and revision af0f99b (https://huggingface.co/distilbert-base-uncased-finetuned-sst-2-english).\n",
            "Using a pipeline without specifying a model name and revision in production is not recommended.\n"
          ]
        }
      ]
    },
    {
      "cell_type": "markdown",
      "source": [
        "## S.Jaishankar Tweet Sentiment analysis"
      ],
      "metadata": {
        "id": "-0fC62ik6YPl"
      }
    },
    {
      "cell_type": "code",
      "source": [
        "senti_pipeline(\"A lively interaction with 35 journalists from 19 Latin American and Caribbean (LAC) countries.Spoke to them about the ‘New India’, transformational changes underway, our growing global footprint and the opportunities to  intensify India-LAC cooperation.\")"
      ],
      "metadata": {
        "colab": {
          "base_uri": "https://localhost:8080/"
        },
        "id": "b04lRehd5aXk",
        "outputId": "85f4b7f8-4e3e-40bd-9b87-9ea9a992308f"
      },
      "execution_count": 9,
      "outputs": [
        {
          "output_type": "execute_result",
          "data": {
            "text/plain": [
              "[{'label': 'POSITIVE', 'score': 0.9997846484184265}]"
            ]
          },
          "metadata": {},
          "execution_count": 9
        }
      ]
    },
    {
      "cell_type": "markdown",
      "source": [
        "## PM NaMo tweet analysis"
      ],
      "metadata": {
        "id": "UAMt0HGd6f4-"
      }
    },
    {
      "cell_type": "code",
      "source": [
        "senti_pipeline(\"I am sad that you haven't subscribed to my channel yet\")"
      ],
      "metadata": {
        "colab": {
          "base_uri": "https://localhost:8080/"
        },
        "id": "k9Omt7wq6VU_",
        "outputId": "d65a1d0b-82c1-4ecf-c7d3-919916f89dbd"
      },
      "execution_count": 10,
      "outputs": [
        {
          "output_type": "execute_result",
          "data": {
            "text/plain": [
              "[{'label': 'NEGATIVE', 'score': 0.9981951117515564}]"
            ]
          },
          "metadata": {},
          "execution_count": 10
        }
      ]
    },
    {
      "cell_type": "code",
      "source": [],
      "metadata": {
        "id": "thwubRHX7Xjz"
      },
      "execution_count": null,
      "outputs": []
    }
  ]
}