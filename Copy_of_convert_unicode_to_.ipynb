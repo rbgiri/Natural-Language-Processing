{
  "nbformat": 4,
  "nbformat_minor": 0,
  "metadata": {
    "colab": {
      "provenance": [],
      "gpuType": "T4",
      "include_colab_link": true
    },
    "kernelspec": {
      "name": "python3",
      "display_name": "Python 3"
    },
    "language_info": {
      "name": "python"
    },
    "accelerator": "GPU"
  },
  "cells": [
    {
      "cell_type": "markdown",
      "metadata": {
        "id": "view-in-github",
        "colab_type": "text"
      },
      "source": [
        "<a href=\"https://colab.research.google.com/github/rbgiri/Natural-Language-Processing/blob/main/Copy_of_convert_unicode_to_.ipynb\" target=\"_parent\"><img src=\"https://colab.research.google.com/assets/colab-badge.svg\" alt=\"Open In Colab\"/></a>"
      ]
    },
    {
      "cell_type": "code",
      "execution_count": 2,
      "metadata": {
        "colab": {
          "base_uri": "https://localhost:8080/"
        },
        "id": "VdAZ77TPHATe",
        "outputId": "ba7f9ec4-f635-4a56-a0d0-abe59dc165a7"
      },
      "outputs": [
        {
          "output_type": "stream",
          "name": "stdout",
          "text": [
            "Collecting anyascii\n",
            "  Downloading anyascii-0.3.2-py3-none-any.whl (289 kB)\n",
            "\u001b[?25l     \u001b[90m━━━━━━━━━━━━━━━━━━━━━━━━━━━━━━━━━━━━━━━━\u001b[0m \u001b[32m0.0/289.9 kB\u001b[0m \u001b[31m?\u001b[0m eta \u001b[36m-:--:--\u001b[0m\r\u001b[2K     \u001b[91m━━━━━━━━━━━━━━━\u001b[0m\u001b[91m╸\u001b[0m\u001b[90m━━━━━━━━━━━━━━━━━━━━━━━━\u001b[0m \u001b[32m112.6/289.9 kB\u001b[0m \u001b[31m3.1 MB/s\u001b[0m eta \u001b[36m0:00:01\u001b[0m\r\u001b[2K     \u001b[90m━━━━━━━━━━━━━━━━━━━━━━━━━━━━━━━━━━━━━━━━\u001b[0m \u001b[32m289.9/289.9 kB\u001b[0m \u001b[31m4.7 MB/s\u001b[0m eta \u001b[36m0:00:00\u001b[0m\n",
            "\u001b[?25hInstalling collected packages: anyascii\n",
            "Successfully installed anyascii-0.3.2\n"
          ]
        }
      ],
      "source": [
        "pip install anyascii"
      ]
    },
    {
      "cell_type": "code",
      "source": [
        "from anyascii import anyascii\n",
        "\n",
        "# checking for Hindi script\n",
        "hindi_uni = anyascii(\"शक्ति के 48 नियम में लेखक रॉबर्ट ग्रीन दुनिया में शक्ति और प्रभाव का इस्तेमाल करने की इच्छा रखने वाले किसी भी व्यक्ति के लिए एक व्यापक मार्गदर्शिका प्रदान करते हैं। ऐतिहासिक और समसामयिक उदाहरणों का सहारा लेते हुए, ग्रीन ने 48 कानूनों की रूपरेखा तैयार की है जिनके बारे में उनका मानना ​​है कि सत्ता हासिल करने और उसे बनाए रखने के लिए ये महत्वपूर्ण हैं। किसी की प्रतिष्ठा की रक्षा करने के महत्व से लेकर दूसरों को आप पर निर्भर रखने के लाभों तक, प्रत्येक कानून को वास्तविक जीवन के उदाहरणों के साथ स्पष्ट और संक्षिप्त तरीके से प्रस्तुत किया जाता है जो उनकी प्रभावशीलता को दर्शाते हैं।विभिन्न कानूनों को जीवन में लाने के लिए कहानियों और उपाख्यानों का उपयोग करते हुए ग्रीन की लेखन शैली आकर्षक और सुलभ है। वह प्राचीन ग्रंथों, प्रसिद्ध नेताओं की जीवनियाँ और आधुनिक समय के केस अध्ययनों सहित स्रोतों की एक विस्तृत श्रृंखला से प्रेरणा लेता है। कानूनों के साथ-साथ, वह उन्हें व्यवहार में लाने के लिए विभिन्न रणनीतियों की रूपरेखा भी बताता है, साथ ही उन प्रकार के लोगों की भी रूपरेखा तैयार करता है जिनके सत्ता संभालने में सफल होने की सबसे अधिक संभावना है।जबकि कुछ लोग पुस्तक को निंदक या चालाकीपूर्ण मान सकते हैं, ग्रीन का तर्क है कि शक्ति हमारी दुनिया का एक अनिवार्य हिस्सा है और जो लोग इसे अनदेखा या खारिज करते हैं वे अपने जोखिम पर ऐसा करते हैं। इसके बजाय, उनका सुझाव है कि शक्ति की गतिशीलता को समझकर और इसे प्रभावी ढंग से उपयोग करना सीखकर, कोई भी अपने लक्ष्यों को प्राप्त कर सकता है और अपने आसपास की दुनिया को प्रभावित कर सकता है। चाहे आप एक बिजनेस लीडर हों, एक राजनेता हों, या बस अपने व्यक्तिगत संबंधों को बेहतर बनाने की चाहत रखने वाले व्यक्ति हों, शक्ति के 48 कानून बहुमूल्य अंतर्दृष्टि और व्यावहारिक सलाह प्रदान करते हैं।\")\n",
        "\n",
        "print(\"The translation from hindi Script : \"\n",
        "      + str(hindi_uni))\n",
        "\n",
        "# checking for Punjabi script\n",
        "pun_uni = anyascii(\"ਮੇਰਾ ਨਾਮ ਅਰਯਾਨ ਹੈ।\" \"ਮੈਨੂੰ ਖੁਸ਼ੀ ਹੈ।\")\n",
        "\n",
        "print(\"The translation from Punjabi Script : \"\n",
        "      + str(pun_uni))\n",
        "\n",
        "# checking for Tamil script\n",
        "Tam_uni = anyascii(\"உன்னத; பழைய நாகரிகம்; தொடர்புடைய\")\n",
        "\n",
        "print(\"The translation from Tamil Script : \"\n",
        "      + str(Tam_uni))\n",
        "\n",
        "# checking for English script\n",
        "Eng_uni = anyascii(\"How do I get the word out? The SEO expert promises that you will be found when people search for you. The Facebook consultant tells you how to interrupt just the right people.The PR professional promises articles and mentions and profiles.And Don Draper, David Ogilvy, and the rest will trade your money for ads.Beautiful, sexy, effective ads.All to get the word out.But that’s not marketing, not anymore. And it doesn’t work, not anymore.We’re going to talk about how you’ll be discovered. But it’s the last part, notthe first.Marketing is important enough to do right, which means doing the other partfirst.\")\n",
        "\n",
        "print(\"The translation from English Script : \"\n",
        "      + str(Eng_uni))\n",
        "\n",
        "# checking for mixed script\n",
        "mix_uni = anyascii(\"mera name शक्ति hai, i am The SEO expert\")\n",
        "\n",
        "print(\"The translation from English Script : \"\n",
        "      + str(mix_uni))"
      ],
      "metadata": {
        "colab": {
          "base_uri": "https://localhost:8080/"
        },
        "id": "ECX-p8y4Hfyr",
        "outputId": "a874aac5-c9f6-4906-9bcc-b11c3f51c1d3"
      },
      "execution_count": 3,
      "outputs": [
        {
          "output_type": "stream",
          "name": "stdout",
          "text": [
            "The translation from hindi Script : skti ke 48 niym mem lekhk robrt grin duniya mem skti aur prbhav ka istemal krne ki iccha rkhne vale kisi bhi vykti ke lie ek vyapk margdrsika prdan krte haim, aitihasik aur smsamyik udahrnom ka shara lete hue, grin ne 48 kanunom ki ruprekha taiyar ki hai jinke bare mem unka manna hai ki stta hasil krne aur use bnae rkhne ke lie ye mhtvpurn haim, kisi ki prtistha ki rksa krne ke mhtv se lekr dusrom ko ap pr nirbhr rkhne ke labhom tk, prtyek kanun ko vastvik jivn ke udahrnom ke sath spst aur smksipt trike se prstut kiya jata hai jo unki prbhavsilta ko drsate haim,vibhinn kanunom ko jivn mem lane ke lie khaniyom aur upakhyanom ka upyog krte hue grin ki lekhn saili akrsk aur sulbh hai, vh pracin grmthom, prsiddh netaom ki jivniyam aur adhunik smy ke kes adhyynom shit srotom ki ek vistrt srrmkhla se prerna leta hai, kanunom ke sath-sath, vh unhem vyvhar mem lane ke lie vibhinn rnnitiyom ki ruprekha bhi btata hai, sath hi un prkar ke logom ki bhi ruprekha taiyar krta hai jinke stta smbhalne mem sphl hone ki sbse adhik smbhavna hai,jbki kuch log pustk ko nimdk ya calakipurn man skte haim, grin ka trk hai ki skti hmari duniya ka ek anivary hissa hai aur jo log ise andekha ya kharij krte haim ve apne jokhim pr aisa krte haim, iske bjay, unka sujhav hai ki skti ki gtisilta ko smjhkr aur ise prbhavi dhmg se upyog krna sikhkr, koi bhi apne lksyom ko prapt kr skta hai aur apne aspas ki duniya ko prbhavit kr skta hai, cahe ap ek bijnes lidr hom, ek rajneta hom, ya bs apne vyktigt smbmdhom ko behtr bnane ki caht rkhne vale vykti hom, skti ke 48 kanun bhumuly amtrdrsti aur vyavharik slah prdan krte haim,\n",
            "The translation from Punjabi Script : mera nam aryan hai,mainum khus'i hai,\n",
            "The translation from Tamil Script : unnt; plaiy nakrikm; totrputaiy\n",
            "The translation from English Script : How do I get the word out? The SEO expert promises that you will be found when people search for you. The Facebook consultant tells you how to interrupt just the right people.The PR professional promises articles and mentions and profiles.And Don Draper, David Ogilvy, and the rest will trade your money for ads.Beautiful, sexy, effective ads.All to get the word out.But that's not marketing, not anymore. And it doesn't work, not anymore.We're going to talk about how you'll be discovered. But it's the last part, notthe first.Marketing is important enough to do right, which means doing the other partfirst.\n",
            "The translation from English Script : mera name skti hai, i am The SEO expert\n"
          ]
        }
      ]
    },
    {
      "cell_type": "code",
      "source": [
        "pip install googletrans\n"
      ],
      "metadata": {
        "colab": {
          "base_uri": "https://localhost:8080/"
        },
        "id": "9pi_j3UORIDS",
        "outputId": "e0518aa7-fa4c-449b-dbd8-f9b45b7f8d4a"
      },
      "execution_count": 4,
      "outputs": [
        {
          "output_type": "stream",
          "name": "stdout",
          "text": [
            "Collecting googletrans\n",
            "  Downloading googletrans-3.0.0.tar.gz (17 kB)\n",
            "  Preparing metadata (setup.py) ... \u001b[?25l\u001b[?25hdone\n",
            "Collecting httpx==0.13.3 (from googletrans)\n",
            "  Downloading httpx-0.13.3-py3-none-any.whl (55 kB)\n",
            "\u001b[2K     \u001b[90m━━━━━━━━━━━━━━━━━━━━━━━━━━━━━━━━━━━━━━━━\u001b[0m \u001b[32m55.1/55.1 kB\u001b[0m \u001b[31m1.4 MB/s\u001b[0m eta \u001b[36m0:00:00\u001b[0m\n",
            "\u001b[?25hRequirement already satisfied: certifi in /usr/local/lib/python3.10/dist-packages (from httpx==0.13.3->googletrans) (2024.2.2)\n",
            "Collecting hstspreload (from httpx==0.13.3->googletrans)\n",
            "  Downloading hstspreload-2024.5.1-py3-none-any.whl (1.1 MB)\n",
            "\u001b[2K     \u001b[90m━━━━━━━━━━━━━━━━━━━━━━━━━━━━━━━━━━━━━━━━\u001b[0m \u001b[32m1.1/1.1 MB\u001b[0m \u001b[31m20.3 MB/s\u001b[0m eta \u001b[36m0:00:00\u001b[0m\n",
            "\u001b[?25hRequirement already satisfied: sniffio in /usr/local/lib/python3.10/dist-packages (from httpx==0.13.3->googletrans) (1.3.1)\n",
            "Collecting chardet==3.* (from httpx==0.13.3->googletrans)\n",
            "  Downloading chardet-3.0.4-py2.py3-none-any.whl (133 kB)\n",
            "\u001b[2K     \u001b[90m━━━━━━━━━━━━━━━━━━━━━━━━━━━━━━━━━━━━━━━━\u001b[0m \u001b[32m133.4/133.4 kB\u001b[0m \u001b[31m16.0 MB/s\u001b[0m eta \u001b[36m0:00:00\u001b[0m\n",
            "\u001b[?25hCollecting idna==2.* (from httpx==0.13.3->googletrans)\n",
            "  Downloading idna-2.10-py2.py3-none-any.whl (58 kB)\n",
            "\u001b[2K     \u001b[90m━━━━━━━━━━━━━━━━━━━━━━━━━━━━━━━━━━━━━━━━\u001b[0m \u001b[32m58.8/58.8 kB\u001b[0m \u001b[31m6.2 MB/s\u001b[0m eta \u001b[36m0:00:00\u001b[0m\n",
            "\u001b[?25hCollecting rfc3986<2,>=1.3 (from httpx==0.13.3->googletrans)\n",
            "  Downloading rfc3986-1.5.0-py2.py3-none-any.whl (31 kB)\n",
            "Collecting httpcore==0.9.* (from httpx==0.13.3->googletrans)\n",
            "  Downloading httpcore-0.9.1-py3-none-any.whl (42 kB)\n",
            "\u001b[2K     \u001b[90m━━━━━━━━━━━━━━━━━━━━━━━━━━━━━━━━━━━━━━━━\u001b[0m \u001b[32m42.6/42.6 kB\u001b[0m \u001b[31m4.3 MB/s\u001b[0m eta \u001b[36m0:00:00\u001b[0m\n",
            "\u001b[?25hCollecting h11<0.10,>=0.8 (from httpcore==0.9.*->httpx==0.13.3->googletrans)\n",
            "  Downloading h11-0.9.0-py2.py3-none-any.whl (53 kB)\n",
            "\u001b[2K     \u001b[90m━━━━━━━━━━━━━━━━━━━━━━━━━━━━━━━━━━━━━━━━\u001b[0m \u001b[32m53.6/53.6 kB\u001b[0m \u001b[31m6.3 MB/s\u001b[0m eta \u001b[36m0:00:00\u001b[0m\n",
            "\u001b[?25hCollecting h2==3.* (from httpcore==0.9.*->httpx==0.13.3->googletrans)\n",
            "  Downloading h2-3.2.0-py2.py3-none-any.whl (65 kB)\n",
            "\u001b[2K     \u001b[90m━━━━━━━━━━━━━━━━━━━━━━━━━━━━━━━━━━━━━━━━\u001b[0m \u001b[32m65.0/65.0 kB\u001b[0m \u001b[31m7.5 MB/s\u001b[0m eta \u001b[36m0:00:00\u001b[0m\n",
            "\u001b[?25hCollecting hyperframe<6,>=5.2.0 (from h2==3.*->httpcore==0.9.*->httpx==0.13.3->googletrans)\n",
            "  Downloading hyperframe-5.2.0-py2.py3-none-any.whl (12 kB)\n",
            "Collecting hpack<4,>=3.0 (from h2==3.*->httpcore==0.9.*->httpx==0.13.3->googletrans)\n",
            "  Downloading hpack-3.0.0-py2.py3-none-any.whl (38 kB)\n",
            "Building wheels for collected packages: googletrans\n",
            "  Building wheel for googletrans (setup.py) ... \u001b[?25l\u001b[?25hdone\n",
            "  Created wheel for googletrans: filename=googletrans-3.0.0-py3-none-any.whl size=15718 sha256=cfa952085e005c1031689581ddf6bdc5ab8da18686ac50ed7f10c4b2158c5e06\n",
            "  Stored in directory: /root/.cache/pip/wheels/b3/81/ea/8b030407f8ebfc2f857814e086bb22ca2d4fea1a7be63652ab\n",
            "Successfully built googletrans\n",
            "Installing collected packages: rfc3986, hyperframe, hpack, h11, chardet, idna, hstspreload, h2, httpcore, httpx, googletrans\n",
            "  Attempting uninstall: chardet\n",
            "    Found existing installation: chardet 5.2.0\n",
            "    Uninstalling chardet-5.2.0:\n",
            "      Successfully uninstalled chardet-5.2.0\n",
            "  Attempting uninstall: idna\n",
            "    Found existing installation: idna 3.7\n",
            "    Uninstalling idna-3.7:\n",
            "      Successfully uninstalled idna-3.7\n",
            "Successfully installed chardet-3.0.4 googletrans-3.0.0 h11-0.9.0 h2-3.2.0 hpack-3.0.0 hstspreload-2024.5.1 httpcore-0.9.1 httpx-0.13.3 hyperframe-5.2.0 idna-2.10 rfc3986-1.5.0\n"
          ]
        }
      ]
    },
    {
      "cell_type": "code",
      "source": [
        "pip install --upgrade googletrans==4.0.0-rc1\n"
      ],
      "metadata": {
        "colab": {
          "base_uri": "https://localhost:8080/"
        },
        "id": "NxVyD3WZS3yc",
        "outputId": "a42b3675-d0db-4198-ceda-f4532380e1ba"
      },
      "execution_count": 5,
      "outputs": [
        {
          "output_type": "stream",
          "name": "stdout",
          "text": [
            "Collecting googletrans==4.0.0-rc1\n",
            "  Downloading googletrans-4.0.0rc1.tar.gz (20 kB)\n",
            "  Preparing metadata (setup.py) ... \u001b[?25l\u001b[?25hdone\n",
            "Requirement already satisfied: httpx==0.13.3 in /usr/local/lib/python3.10/dist-packages (from googletrans==4.0.0-rc1) (0.13.3)\n",
            "Requirement already satisfied: certifi in /usr/local/lib/python3.10/dist-packages (from httpx==0.13.3->googletrans==4.0.0-rc1) (2024.2.2)\n",
            "Requirement already satisfied: hstspreload in /usr/local/lib/python3.10/dist-packages (from httpx==0.13.3->googletrans==4.0.0-rc1) (2024.5.1)\n",
            "Requirement already satisfied: sniffio in /usr/local/lib/python3.10/dist-packages (from httpx==0.13.3->googletrans==4.0.0-rc1) (1.3.1)\n",
            "Requirement already satisfied: chardet==3.* in /usr/local/lib/python3.10/dist-packages (from httpx==0.13.3->googletrans==4.0.0-rc1) (3.0.4)\n",
            "Requirement already satisfied: idna==2.* in /usr/local/lib/python3.10/dist-packages (from httpx==0.13.3->googletrans==4.0.0-rc1) (2.10)\n",
            "Requirement already satisfied: rfc3986<2,>=1.3 in /usr/local/lib/python3.10/dist-packages (from httpx==0.13.3->googletrans==4.0.0-rc1) (1.5.0)\n",
            "Requirement already satisfied: httpcore==0.9.* in /usr/local/lib/python3.10/dist-packages (from httpx==0.13.3->googletrans==4.0.0-rc1) (0.9.1)\n",
            "Requirement already satisfied: h11<0.10,>=0.8 in /usr/local/lib/python3.10/dist-packages (from httpcore==0.9.*->httpx==0.13.3->googletrans==4.0.0-rc1) (0.9.0)\n",
            "Requirement already satisfied: h2==3.* in /usr/local/lib/python3.10/dist-packages (from httpcore==0.9.*->httpx==0.13.3->googletrans==4.0.0-rc1) (3.2.0)\n",
            "Requirement already satisfied: hyperframe<6,>=5.2.0 in /usr/local/lib/python3.10/dist-packages (from h2==3.*->httpcore==0.9.*->httpx==0.13.3->googletrans==4.0.0-rc1) (5.2.0)\n",
            "Requirement already satisfied: hpack<4,>=3.0 in /usr/local/lib/python3.10/dist-packages (from h2==3.*->httpcore==0.9.*->httpx==0.13.3->googletrans==4.0.0-rc1) (3.0.0)\n",
            "Building wheels for collected packages: googletrans\n",
            "  Building wheel for googletrans (setup.py) ... \u001b[?25l\u001b[?25hdone\n",
            "  Created wheel for googletrans: filename=googletrans-4.0.0rc1-py3-none-any.whl size=17395 sha256=350d03deef380ba9b165bd3335ca2eff6e124c7f5e067ba4097fd420a443a6e9\n",
            "  Stored in directory: /root/.cache/pip/wheels/c0/59/9f/7372f0cf70160fe61b528532e1a7c8498c4becd6bcffb022de\n",
            "Successfully built googletrans\n",
            "Installing collected packages: googletrans\n",
            "  Attempting uninstall: googletrans\n",
            "    Found existing installation: googletrans 3.0.0\n",
            "    Uninstalling googletrans-3.0.0:\n",
            "      Successfully uninstalled googletrans-3.0.0\n",
            "Successfully installed googletrans-4.0.0rc1\n"
          ]
        }
      ]
    },
    {
      "cell_type": "code",
      "source": [
        "def translate_to_english(text):\n",
        "    translator = Translator()\n",
        "    translation = translator.translate(text, dest='en')\n",
        "    return translation.text\n",
        "# Original text in different scripts\n",
        "hindi_text = \"शक्ति के 48 नियम में लेखक रॉबर्ट ग्रीन दुनिया में शक्ति और प्रभाव का इस्तेमाल करने की इच्छा रखने वाले किसी भी व्यक्ति के लिए एक व्यापक मार्गदर्शिका प्रदान करते हैं।\"\n",
        "punjabi_text = \"ਮੇਰਾ ਨਾਮ ਅਰਯਾਨ ਹੈ। ਮੈਨੂੰ ਖੁਸ਼ੀ ਹੈ।\"\n",
        "tamil_text = \"உன்னத; பழைய நாகரிகம்; தொடர்புடைய\"\n",
        "english_text = \"How do I get the word out? The SEO expert promises that you will be found when people search for you. The Facebook consultant tells you how to interrupt just the right people.The PR professional promises articles and mentions and profiles.And Don Draper, David Ogilvy, and the rest will trade your money for ads.Beautiful, sexy, effective ads.All to get the word out.But that’s not marketing, not anymore. And it doesn’t work, not anymore.We’re going to talk about how you’ll be discovered. But it’s the last part, notthe first.Marketing is important enough to do right, which means doing the other partfirst.\"\n",
        "mix_text = \"mera name शक्ति hai, i am The SEO expert\"\n",
        "\n",
        "from googletrans import Translator\n",
        "# Translate text to English\n",
        "translated_hindi = translate_to_english(hindi_text)\n",
        "translated_punjabi = translate_to_english(punjabi_text)\n",
        "translated_tamil = translate_to_english(tamil_text)\n",
        "translated_english = translate_to_english(english_text)\n",
        "translated_mix = translate_to_english(mix_text)\n",
        "\n",
        "# Print translated text\n",
        "print(\"Translated text from Hindi:\", translated_hindi)\n",
        "print(\"Translated text from Punjabi:\", translated_punjabi)\n",
        "print(\"Translated text from Tamil:\", translated_tamil)\n",
        "print(\"Translated text from mix:\", translated_mix)\n",
        "print(\"Translated text from english:\", translated_english)\n",
        "print(\"Original English text:\", english_text)  # Original English text doesn't need translation"
      ],
      "metadata": {
        "colab": {
          "base_uri": "https://localhost:8080/"
        },
        "id": "AaajP0TkTBbP",
        "outputId": "32c72bb3-49ce-4cd1-d11c-86ff212814ac"
      },
      "execution_count": 6,
      "outputs": [
        {
          "output_type": "stream",
          "name": "stdout",
          "text": [
            "Translated text from Hindi: In 48 rules of Shakti, author Robert Green offers a comprehensive guide to anyone who desires to use power and influence in the world.\n",
            "Translated text from Punjabi: My name is Erayan.I am glad.\n",
            "Translated text from Tamil: The nobleOld civilization;Relevant\n",
            "Translated text from mix: Mera name Shakti Hai, I am the SEO Expert\n",
            "Translated text from english: How do I get the word out? The SEO expert promises that you will be found when people search for you. The Facebook consultant tells you how to interrupt just the right people.The PR professional promises articles and mentions and profiles.And Don Draper, David Ogilvy, and the rest will trade your money for ads.Beautiful, sexy, effective ads.All to get the word out.But that’s not marketing, not anymore. And it doesn’t work, not anymore.We’re going to talk about how you’ll be discovered. But it’s the last part, notthe first.Marketing is important enough to do right, which means doing the other partfirst.\n",
            "Original English text: How do I get the word out? The SEO expert promises that you will be found when people search for you. The Facebook consultant tells you how to interrupt just the right people.The PR professional promises articles and mentions and profiles.And Don Draper, David Ogilvy, and the rest will trade your money for ads.Beautiful, sexy, effective ads.All to get the word out.But that’s not marketing, not anymore. And it doesn’t work, not anymore.We’re going to talk about how you’ll be discovered. But it’s the last part, notthe first.Marketing is important enough to do right, which means doing the other partfirst.\n"
          ]
        }
      ]
    },
    {
      "cell_type": "code",
      "source": [
        "def translate_to_english(text):\n",
        "    translator = Translator()\n",
        "    translation = translator.translate(text, dest='en')\n",
        "    return translation.text\n",
        "\n",
        "    mix_text = \"mera name शक्ति hai, i am The SEO expert\"\n",
        "\n",
        "    from googletrans import Translator\n",
        "    translated_mix = translate_to_hindi(mix_text)\n",
        "\n",
        ""
      ],
      "metadata": {
        "id": "jbIPL0QcQ-I8"
      },
      "execution_count": 7,
      "outputs": []
    },
    {
      "cell_type": "code",
      "source": [
        "print(\"Translated text from mix:\", translated_mix)"
      ],
      "metadata": {
        "colab": {
          "base_uri": "https://localhost:8080/"
        },
        "id": "Fl0MSFOh8wVR",
        "outputId": "e642e185-ae75-4816-fbb4-73d24bbf3da2"
      },
      "execution_count": 8,
      "outputs": [
        {
          "output_type": "stream",
          "name": "stdout",
          "text": [
            "Translated text from mix: Mera name Shakti Hai, I am the SEO Expert\n"
          ]
        }
      ]
    },
    {
      "cell_type": "code",
      "source": [],
      "metadata": {
        "id": "3S5NjSHm9IA0"
      },
      "execution_count": 8,
      "outputs": []
    }
  ]
}